{
  "cells": [
    {
      "cell_type": "markdown",
      "metadata": {
        "id": "view-in-github",
        "colab_type": "text"
      },
      "source": [
        "<a href=\"https://colab.research.google.com/github/Alessandro-Borges/alessandro-borges.github.io/blob/main/dev_equipe_MVP_bolsas_prouni.ipynb\" target=\"_parent\"><img src=\"https://colab.research.google.com/assets/colab-badge.svg\" alt=\"Open In Colab\"/></a>"
      ]
    },
    {
      "cell_type": "code",
      "source": [
        "# Software de Alocação Ótima de Bolsas\n",
        "\n",
        "# Estruturado em quatro componentes :\n",
        "#1 - Input de Dados,\n",
        "#2 - Modelagem e ETL dos dados para formato algebrico de otimização e calculos necessários,\n",
        "#3 - Otimização matemática conforme parâmetros selecionados,\n",
        "#4 - Output do resulato otimo em tabelas e dashboard/relatório"
      ],
      "metadata": {
        "id": "nYs5v2fbAzZN"
      },
      "id": "nYs5v2fbAzZN",
      "execution_count": null,
      "outputs": []
    },
    {
      "cell_type": "code",
      "source": [
        "# Importando bibliotecas necessárias\n",
        "!pip install pyomo"
      ],
      "metadata": {
        "id": "DIDTPtAEdKSO"
      },
      "id": "DIDTPtAEdKSO",
      "execution_count": null,
      "outputs": []
    },
    {
      "cell_type": "code",
      "source": [
        "# Instala o solver gratuito - GLPK\n",
        "\n",
        "!apt-get install -y -qq glpk-utils"
      ],
      "metadata": {
        "id": "pB7aKzMRxISy"
      },
      "id": "pB7aKzMRxISy",
      "execution_count": null,
      "outputs": []
    },
    {
      "cell_type": "code",
      "execution_count": null,
      "id": "993aec02",
      "metadata": {
        "id": "993aec02"
      },
      "outputs": [],
      "source": [
        "# Importando bibliotecas necessárias\n",
        "\n",
        "import tkinter  as tk\n",
        "from tkinter import *\n",
        "import pyomo.environ as pyo\n",
        "import pandas as pd\n",
        "import numpy as np\n",
        "import os\n",
        "from ipywidgets import widgets, interact, Button, VBox\n",
        "from google.colab import files\n"
      ]
    },
    {
      "cell_type": "markdown",
      "source": [
        "# Nova seção"
      ],
      "metadata": {
        "id": "YfZBjYQZ_-9K"
      },
      "id": "YfZBjYQZ_-9K"
    },
    {
      "cell_type": "markdown",
      "source": [
        "# 1 INPUT DE DADOS"
      ],
      "metadata": {
        "id": "2YA-If-t__4n"
      },
      "id": "2YA-If-t__4n"
    },
    {
      "cell_type": "code",
      "source": [
        "#https://stackoverflow.com/questions/50479576/google-colab-changing-directory\n",
        "\n",
        "from google.colab import drive\n",
        "drive.mount('/content/drive')"
      ],
      "metadata": {
        "id": "pAIGWU1FgDiI",
        "colab": {
          "base_uri": "https://localhost:8080/"
        },
        "outputId": "fed4eb03-0d76-42c0-af8b-8eb53daa0f38"
      },
      "id": "pAIGWU1FgDiI",
      "execution_count": null,
      "outputs": [
        {
          "output_type": "stream",
          "name": "stdout",
          "text": [
            "Mounted at /content/drive\n"
          ]
        }
      ]
    },
    {
      "cell_type": "markdown",
      "source": [
        "# 2 Transformação dos dados"
      ],
      "metadata": {
        "id": "OdHG-tNrKQMj"
      },
      "id": "OdHG-tNrKQMj"
    },
    {
      "cell_type": "markdown",
      "source": [
        "## 2.1 Transformação dos dados de entrada para formulação do modelo"
      ],
      "metadata": {
        "id": "24EXhLIzKi_a"
      },
      "id": "24EXhLIzKi_a"
    },
    {
      "cell_type": "code",
      "source": [
        "os.path.abspath(\".\")\n",
        "CURRENT_DIR = os.path.abspath(\".\")\n"
      ],
      "metadata": {
        "id": "gPbRaQ_Pc6rR"
      },
      "id": "gPbRaQ_Pc6rR",
      "execution_count": null,
      "outputs": []
    },
    {
      "cell_type": "code",
      "source": [
        "dados = {'ID_BOLSA': [1, 2, 3], 'Descricao': ['Prouni100','Prouni50','SemBolsa']}\n",
        "df_bolsas = pd.DataFrame(data=dados)\n",
        "\n",
        "dados_periodos = {'ID_PERIODO': [1, 2], 'Descricao': ['Calouro','Veterano']}\n",
        "df_periodos = pd.DataFrame(data=dados_periodos)\n",
        "\n",
        "df_cursos =  pd.read_csv(os.path.join(CURRENT_DIR,'Lista_Cursos.csv'), delimiter =\";\")\n",
        "df_alunos_matriculados_novo =  pd.read_csv(os.path.join(CURRENT_DIR,'Alunos_Matriculados_Teste.csv'), delimiter =\";\")\n",
        "df_receitas_novo =  pd.read_csv(os.path.join(CURRENT_DIR,'Receitas_teste_padronizada.csv'), delimiter =\";\")\n"
      ],
      "metadata": {
        "id": "aUmVmA1gf0Tc"
      },
      "id": "aUmVmA1gf0Tc",
      "execution_count": null,
      "outputs": []
    },
    {
      "cell_type": "markdown",
      "source": [
        "## 2.2 - Modelagem e ETL dos dados para formato algebrico de otimização e calculos necessários,"
      ],
      "metadata": {
        "id": "VlrnMIi6K1z9"
      },
      "id": "VlrnMIi6K1z9"
    },
    {
      "cell_type": "code",
      "source": [
        "df_alunos_matriculados_novo = df_alunos_matriculados_novo.pivot(index = 'CR', columns = 'PERIODO', values ='N_ALUNOS').reset_index() # faz o pivot e joga o Periodo pra coluna pra cada CR\n",
        "df_alunos_matriculados_novo = df_alunos_matriculados_novo.to_numpy()\n",
        "df_alunos_matriculados_novo = np.delete(df_alunos_matriculados_novo,0,axis=1) # exclui a 1 coluna e tira o CR"
      ],
      "metadata": {
        "id": "th3-nHWn3j5z"
      },
      "id": "th3-nHWn3j5z",
      "execution_count": null,
      "outputs": []
    },
    {
      "cell_type": "code",
      "source": [
        "iix_n = pd.MultiIndex.from_product([np.unique(df_receitas_novo.CR), np.unique(df_receitas_novo.Periodo)])\n",
        "receitas = (df_receitas_novo.pivot_table('TKT_MEDIO_PERIODO', ['CR', 'Periodo'], 'ID_BOLSA', aggfunc='first')\n",
        "         .reindex(iix_n).to_numpy()\n",
        "         .reshape(df_receitas_novo.CR.nunique(),df_receitas_novo.Periodo.nunique(),-1))"
      ],
      "metadata": {
        "id": "-rddfUaq9AOc"
      },
      "id": "-rddfUaq9AOc",
      "execution_count": null,
      "outputs": []
    },
    {
      "cell_type": "markdown",
      "source": [
        "# 3 MODELO PLI e OTIMIZAÇÃO MATEMÁTICA"
      ],
      "metadata": {
        "id": "TKp1pA8qLZhY"
      },
      "id": "TKp1pA8qLZhY"
    },
    {
      "cell_type": "code",
      "source": [
        "# 3 Modelo PLIM e Otimização Matemática\n",
        "\n",
        "#Declaração do modelo:\n",
        "\n",
        "modelo = pyo.ConcreteModel()\n",
        "\n",
        "# Indices\n",
        "cursos = df_cursos['CR'] # Indice J\n",
        "bolsas = df_bolsas['ID_BOLSA'] # Indice K\n",
        "periodos = df_periodos['ID_PERIODO'] # Indice I\n",
        "\n",
        "m = len(cursos) # Linhas das matrizes, total de cursos\n",
        "n = len(periodos) # colunas das matrizes, total de periodos, neste caso, considerando calouros/ periodo 1 e veteranos periodo 2, pois só entrariam bolsistas no periodo 1\n",
        "o = len (bolsas) # nº de matrizes (m x n) a serem criadas , 3  k = 1 ou 2 ou 3\n",
        "\n",
        "\n",
        "modelo.J = pyo.RangeSet(m) # Cursos --  Indice J\n",
        "modelo.I = pyo.RangeSet(n) # Periodos --  Indice I\n",
        "modelo.K = pyo.RangeSet(o) # Bolsas -- Indice K"
      ],
      "metadata": {
        "id": "Tz1_oXOauM01"
      },
      "id": "Tz1_oXOauM01",
      "execution_count": null,
      "outputs": []
    },
    {
      "cell_type": "markdown",
      "source": [
        "## 3.1 PARÂMETROS"
      ],
      "metadata": {
        "id": "-HMoD8dDLj7j"
      },
      "id": "-HMoD8dDLj7j"
    },
    {
      "cell_type": "code",
      "source": [
        "############# PARAMETROS ######\n",
        "\n",
        "# Caso ocorra algum erro, ele irá acusar que já existe o parametro ou índice no modelo criado, ai por isso, talvez seja necessário deletar o índice ou o param do modelo\n",
        "\n",
        "#del modelo.alunos_index  # Delete the component if it already exists"
      ],
      "metadata": {
        "id": "gfm_OvQVJQ-p"
      },
      "id": "gfm_OvQVJQ-p",
      "execution_count": null,
      "outputs": []
    },
    {
      "cell_type": "code",
      "source": [
        "modelo.cursos = pyo.Param(modelo.J, initialize=lambda modelo, j: cursos[j-1])\n",
        "modelo.periodos = pyo.Param(modelo.I, initialize=lambda modelo, i: periodos[i-1])\n",
        "modelo.bolsas = pyo.Param(modelo.K, initialize=lambda modelo, k: bolsas[k-1])\n",
        "modelo.receitas = pyo.Param(modelo.J, modelo.I, modelo.K, initialize=lambda modelo, j, i, k: receitas[j-1][i-1][k-1]) #revisitar formato que tem que ficar\n",
        "modelo.alunos = pyo.Param(modelo.J, modelo.I, initialize=lambda modelo, j, i: df_alunos_matriculados_novo[j-1][i-1])\n",
        "\n"
      ],
      "metadata": {
        "id": "4R9srQ7P4j98"
      },
      "id": "4R9srQ7P4j98",
      "execution_count": null,
      "outputs": []
    },
    {
      "cell_type": "markdown",
      "source": [
        "## 3.2 Variáveis de decisão"
      ],
      "metadata": {
        "id": "eY8-5yg9LwQg"
      },
      "id": "eY8-5yg9LwQg"
    },
    {
      "cell_type": "code",
      "source": [
        "# Variáveis de decisão:\n",
        "\n",
        "modelo.y = pyo.Var(modelo.J, modelo.I, modelo.K, within = pyo.PositiveReals)"
      ],
      "metadata": {
        "id": "zZ0IxdcrL1RI"
      },
      "id": "zZ0IxdcrL1RI",
      "execution_count": null,
      "outputs": []
    },
    {
      "cell_type": "markdown",
      "source": [
        "## 3.3 Função Objetivo"
      ],
      "metadata": {
        "id": "UJASu4sRL_GT"
      },
      "id": "UJASu4sRL_GT"
    },
    {
      "cell_type": "code",
      "source": [
        "# Função Objetivo\n",
        "\n",
        "def regra_z(mod):\n",
        "    return (pyo.summation(mod.receitas, mod.y))\n",
        "\n",
        "modelo.z = pyo.Objective(rule=regra_z, sense=pyo.maximize)"
      ],
      "metadata": {
        "id": "mZvWeTrZ48sq"
      },
      "id": "mZvWeTrZ48sq",
      "execution_count": null,
      "outputs": []
    },
    {
      "cell_type": "code",
      "source": [
        "#modelo.y.pprint()"
      ],
      "metadata": {
        "id": "SQ08DU58I_47"
      },
      "id": "SQ08DU58I_47",
      "execution_count": null,
      "outputs": []
    },
    {
      "cell_type": "code",
      "source": [
        "#modelo.z.pprint()"
      ],
      "metadata": {
        "id": "eOfWOZMTFFLe"
      },
      "id": "eOfWOZMTFFLe",
      "execution_count": null,
      "outputs": []
    },
    {
      "cell_type": "markdown",
      "source": [
        "## 3.4 RESTRIÇÕES"
      ],
      "metadata": {
        "id": "DlH6GkJ0OWf4"
      },
      "id": "DlH6GkJ0OWf4"
    },
    {
      "cell_type": "code",
      "source": [
        "# RESTRICOES\n",
        "\n",
        "# RESTRIÇÃO 1 : cada periodo de cada curso precisa ter pelo menos 10% de seus alunos bolsistas integrais\n",
        "\n",
        "# Uma forma de fazer a mesma restrição que você fez por lambda é esta:\n",
        "def f_restr1(modelo, j, i, k):\n",
        "    if k == 1:\n",
        "        return modelo.y[j,i,k] >= round(0.1*modelo.alunos[j,i],0)\n",
        "    else:\n",
        "        return pyo.Constraint.Skip\n",
        "\n",
        "modelo.restr_1 = pyo.Constraint(modelo.J, modelo.I, modelo.K, rule=f_restr1)\n",
        "\n",
        "\n",
        "# Restrição 2: Estabelece que o total de alunos bolsistas na universidade deve\n",
        "# perfazer pelo menos 20% do total de estudantes pagantes da universidade. Alunos pagantes são\n",
        "# todos os alunos que não têm bolsa integral.\n",
        "# Alunos com bolsa parcial 50%, podem ser contabilizados que a cada 2 deles, seria um integral, por isso coef \"0,5\" na variável \"B\"\n",
        "\n",
        "def f_restr2(modelo):\n",
        "    A = sum(modelo.y[j,i,1] for j in modelo.J for i in modelo.I) # não precisa usar os índices K1 / K2 / K3\n",
        "    B = sum(modelo.y[j,i,2]*0.5 for j in modelo.J for i in modelo.I) # só passar o valor de k de forma explícita\n",
        "    C = sum(modelo.y[j,i,3]*-0.201 for j in modelo.J for i in modelo.I) # no índice da variável y\n",
        "    return (A + B + C) >= 0\n",
        "\n",
        "modelo.restr_2 = pyo.Constraint(rule=f_restr2)\n",
        "\n",
        "\n",
        "# Restrição 3 : O nº de alunos em cada periodo i de cada curso j tem que ser igual ao\n",
        "#total de alunos cursando aquele periodo daquele curso j para todos os tipos de bolsa\n",
        "\n",
        "def f_restr3(modelo, j, i):\n",
        "    return sum(modelo.y[j,i,k] for k in modelo.K) == round(modelo.alunos[j,i],0)\n",
        "\n",
        "\n",
        "modelo.restr_3 = pyo.Constraint(modelo.J, modelo.I, rule = f_restr3)\n",
        "\n",
        "\n",
        "# RESTRICAO 4, NUMERO ALUNOS BOLSISTAS 100% DEVE SER = OU > QUE NUMERO ATUAL\n",
        "# RESTRICAO 4, NUMERO ALUNOS BOLSISTAS 50% DEVE SER = OU > QUE NUMERO ATUAL\n",
        "\n",
        "# RESTRICAO 5, NUMERO ALUNOS BOLSISTA 100% NAO PODE SER SUPERIOR QUE NUMERO X, DETERMINADO POR OUTRAS REGRAS (LIMITE SUPERIOR DE BOLSAS)\n",
        "# RESTRICAO 5, NUMERO ALUNOS BOLSISTA 50% NAO PODE SER SUPERIOR QUE NUMERO X, DETERMINADO POR OUTRAS REGRAS (LIMITE SUPERIOR DE BOLSAS)\n",
        "\n",
        "\n"
      ],
      "metadata": {
        "id": "OqQTHJEw5Q5f"
      },
      "id": "OqQTHJEw5Q5f",
      "execution_count": null,
      "outputs": []
    },
    {
      "cell_type": "markdown",
      "source": [
        "## 3.5 Resolução do modelo"
      ],
      "metadata": {
        "id": "qURkm088Ngxq"
      },
      "id": "qURkm088Ngxq"
    },
    {
      "cell_type": "code",
      "source": [
        "resultado = pyo.SolverFactory('glpk',executable = '/usr/bin/glpsol').solve(modelo)\n",
        "\n",
        "modelo.z()"
      ],
      "metadata": {
        "id": "jmiUZpwE6lEu",
        "colab": {
          "base_uri": "https://localhost:8080/"
        },
        "outputId": "2d6d5acf-e331-49a0-d1b2-07fe06d03d35"
      },
      "id": "jmiUZpwE6lEu",
      "execution_count": null,
      "outputs": [
        {
          "output_type": "execute_result",
          "data": {
            "text/plain": [
              "43871946.177119985"
            ]
          },
          "metadata": {},
          "execution_count": 14
        }
      ]
    },
    {
      "cell_type": "markdown",
      "source": [
        "# 4 ANÁLISE DOS RESULTADOS"
      ],
      "metadata": {
        "id": "QLjivpr4Xlf4"
      },
      "id": "QLjivpr4Xlf4"
    },
    {
      "cell_type": "markdown",
      "source": [
        "## 4.1 Captura dos resultados do modelo"
      ],
      "metadata": {
        "id": "HLH1Rlu3Nv0q"
      },
      "id": "HLH1Rlu3Nv0q"
    },
    {
      "cell_type": "code",
      "source": [
        "#https://stackoverflow.com/questions/67491499/how-to-extract-indexed-variable-information-in-pyomo-model-and-build-pandas-data\n",
        "\n",
        "#https://or.stackexchange.com/questions/6122/how-to-display-results-of-pyomo-variables-in-a-pandas-dataframe\n",
        "\n",
        "# let's convert each var to a pandas series, indexed by model.T...\n",
        "\n",
        "# get all the variables (assuming the fuller model will have constraints, params, etc.)\n",
        "model_vars = modelo.component_map(ctype=pyo.Var)\n",
        "\n",
        "\n",
        "serieses = []   # collection to hold the converted \"serieses\"\n",
        "for k in model_vars.keys():   # this is a map of {name:pyo.Var}\n",
        "    v = model_vars[k]\n",
        "    #print(v)\n",
        "\n",
        "    # make a pd.Series from each\n",
        "    s = pd.Series(v.extract_values(), index=v.extract_values().keys())\n",
        "    #print(s)\n",
        "\n",
        "    # if the series is multi-indexed we need to unstack it...\n",
        "    if type(s.index[0]) == tuple:  # it is multi-indexed\n",
        "        s = s.unstack(level=1)\n",
        "    else:\n",
        "        s = pd.DataFrame(s)         # force transition from Series -> df\n",
        "\n",
        "    #print(s)\n",
        "\n",
        "    # multi-index the columns\n",
        "    s.columns = pd.MultiIndex.from_tuples([(k, t) for t in s.columns])\n",
        "\n",
        "    serieses.append(s)\n",
        "\n",
        "df = pd.concat(serieses, axis=1)\n",
        "\n",
        "# Reset the index to make the new columns separate from the MultiIndex\n",
        "df.reset_index(inplace=True)\n",
        "\n",
        "df.rename(columns={'level_0': 'Curso', 'level_1': 'tipo_bolsa'}, inplace=True)\n",
        "\n",
        "# Flatten the MultiIndex columns and rename the columns\n",
        "\n",
        "#f'{col[0]}_{col[1]}' if col[0] == 'y' else col[0]:\n",
        "#This is a conditional expression (also known as a ternary operator).\n",
        "# It checks if the first level of the MultiIndex for the current column (col[0]) is equal to 'y'.\n",
        "#If it is, it creates a new column name by concatenating the first level (col[0])\n",
        "#with an underscore _ and the second level (col[1]).\n",
        "# If the condition is not met (i.e., the first level is not 'y'), it keeps the original column name (col[0]).\n",
        "\n",
        "#The entire expression is wrapped in square brackets ([]),\n",
        "# which is a list comprehension. This generates a new list of column names based on the conditions specified.\n",
        "\n",
        "#The f'{col[0]}_{col[1]}' is an f-string, a formatted string literal in Python.\n",
        "#It allows you to embed expressions inside string literals, using curly braces {}.\n",
        "#In this case, it's used to concatenate the first level (col[0]) with an underscore _\n",
        "#and the second level (col[1]) to form a new column name.\n",
        "\n",
        "#df.columns = [f'{col[0]}_{col[1]}' if col[0] == 'y' else col[0] for col in df.columns]\n",
        "\n",
        "df.columns = [f'{col[1]}' if col[0] == 'y' else col[0] for col in df.columns]\n",
        "\n",
        "\n",
        "#df['y_3'] = df['y_1'] + df['y_2']\n",
        "\n",
        "#print(df)"
      ],
      "metadata": {
        "id": "IYyaAhsiWAIp"
      },
      "id": "IYyaAhsiWAIp",
      "execution_count": null,
      "outputs": []
    },
    {
      "cell_type": "code",
      "source": [
        "# Unpivot or melt the DataFrame\n",
        "df = pd.melt(df, id_vars=['Curso', 'tipo_bolsa'], var_name='PERIODO', value_name='N_STUDENTS')"
      ],
      "metadata": {
        "id": "EsctkoczsaBQ"
      },
      "id": "EsctkoczsaBQ",
      "execution_count": null,
      "outputs": []
    },
    {
      "cell_type": "code",
      "source": [
        "df['Curso'] = df['Curso'].astype(int)\n",
        "df['PERIODO'] = df['PERIODO'].astype(int)"
      ],
      "metadata": {
        "id": "kdTvxfKkskxR"
      },
      "id": "kdTvxfKkskxR",
      "execution_count": null,
      "outputs": []
    },
    {
      "cell_type": "code",
      "source": [
        "print(df)"
      ],
      "metadata": {
        "id": "-iDqVOAZOgry"
      },
      "id": "-iDqVOAZOgry",
      "execution_count": null,
      "outputs": []
    },
    {
      "cell_type": "markdown",
      "source": [
        "## 4.2 Cálculo das métricas/KPI's necessários"
      ],
      "metadata": {
        "id": "HHLS-Y5uOnJZ"
      },
      "id": "HHLS-Y5uOnJZ"
    },
    {
      "cell_type": "code",
      "source": [
        "#Calcular as seguintes metricas e fazer um \"dash\" :\n",
        "\n",
        "# Total de Estudantes -- OK\n",
        "# Nº de Estudantes sem bolsa -- OK\n",
        "\n",
        "\n",
        "# Nº de bolsistas 100% -- OK\n",
        "# Receita \"perdida\" em R$ (mensal) com bolsas 100% -- OK\n",
        "\n",
        "# Nº de bolsistas 50% -- OK\n",
        "# Receita \"perdida\" em R$ (mensal) com bolsas 50% -- OK\n",
        "\n",
        "# Receita Total Esperada \"Líquida\" ( bolsa tipo 3 + bolsa tipo 2) ou total sum bolsas - dedução de bolsa tipo 1 -- OK\n",
        "\n",
        "# n ingressante bolsa 100% (total alunos antes da otimizacao bolsa 100 - total aluno bolsa 100 apos otimizacao), tipo bolsa = 1\n",
        "# n ingressante bolsa 50% (total alunos antes da otimizacao bolsa 50 - total aluno bolsa 50 apos otimizacao), tipo bolsa = 2\n",
        "\n",
        "# Nº Total de Bolsistas\n",
        "\n",
        "# Nº de bolsistas ponderado 100%\n",
        "\n",
        "# Valor gasto com bolsas no semestre\n",
        "\n",
        "# Nº de alunos pagantes\n",
        "\n",
        "\n",
        "## -- metricas acima e talvez outras calculadas (exemplo abaixo) e exibidas em uma tabal resumo, 1 valor de cada coluna.\n",
        "## -- provavelmente será necessário pivot na tabela para criar como colunas adicionais os valores normalizar/desnormalizar.\n",
        "#abaixo calculas e disponivel em uma tabela , exibindo por curso\n",
        "\n",
        "# 8 tabela com Nº total aluno calouros, veteranos, total, nº bolsa 100% , Nº bolsa 50%\n",
        "\n",
        "# 9 Valor gasto em R$ (mensal/semestral) com bolsas 100%,\n",
        "# 10 Valor gasto em R$ (mensal/semestral) com bolsas 50%,\n",
        "# 11 Valor Total Gasto em r$ (mensal/semestral) com bolsas\n",
        "\n",
        "## -- valores disponiveis para consulta em uma tabela , exibindo por curso\n",
        "\n",
        "# tkt med calouro\n",
        "# tkt med veteranos\n",
        "# total alunos\n",
        "# total calouros (periodo = 1)\n",
        "# total alunos veteranos (periodo = 2)\n",
        "# n ingressante bolsa 100% (total alunos antes da otimizacao bolsa 100 - total aluno bolsa 100 apos otimizacao), tipo bolsa = 1\n",
        "# n ingressante bolsa 50% (total alunos antes da otimizacao bolsa 50 - total aluno bolsa 50 apos otimizacao), tipo bolsa = 2"
      ],
      "metadata": {
        "id": "UqEVABCQc-Gd"
      },
      "id": "UqEVABCQc-Gd",
      "execution_count": null,
      "outputs": []
    },
    {
      "cell_type": "markdown",
      "source": [
        "### 4.2.1 Obtencao dos tkt medio por curso e periodo"
      ],
      "metadata": {
        "id": "1ojuqoTqUn3w"
      },
      "id": "1ojuqoTqUn3w"
    },
    {
      "cell_type": "code",
      "source": [
        "# Cópia do dataframe de receitas informado pelo usuario\n",
        "\n",
        "df_receitas_novo_teste2 = df_receitas_novo.copy()\n",
        "\n",
        "# Filtro para pegar os valores integrais de tkt medio de cada curso, para periodo = 1, calouro e periodo = 2 veterano\n",
        "\n",
        "df_receitas_novo_teste2 = df_receitas_novo_teste2[df_receitas_novo_teste2['ID_BOLSA'] == 3]\n",
        "\n",
        "# Create a dictionary to map unique 'CR' values to unique IDs\n",
        "cr_id_mapping = {cr: idx + 1 for idx, cr in enumerate(df_receitas_novo_teste2['CR'].unique())}\n",
        "\n",
        "# Add an \"id\" column based on the mapping using .loc\n",
        "df_receitas_novo_teste2.loc[:, 'id'] = df_receitas_novo_teste2['CR'].map(cr_id_mapping)\n",
        "\n",
        "### --- Maneira \"menos performatica\" ou que pode ter comportamentos inesperados, baseando no map\n",
        "# Add an \"id\" column based on the mapping\n",
        "#df_receitas_novo_teste['id'] = df_receitas_novo_teste['CR'].map(cr_id_mapping)\n",
        "\n",
        "#value is trying to be set on a copy of a slice from a DataFrame.\n",
        "#Try using .loc[row_indexer,col_indexer] = value instead\n",
        "\n",
        "#See the caveats in the documentation: https://pandas.pydata.org/pandas-docs/stable/user_guide/indexing.html#returning-a-view-versus-a-copy\n",
        "\n",
        "\n",
        "# Check column types\n",
        "#column_types = df_receitas_novo2.dtypes\n",
        "\n"
      ],
      "metadata": {
        "id": "GzV57BVcUhI1"
      },
      "id": "GzV57BVcUhI1",
      "execution_count": null,
      "outputs": []
    },
    {
      "cell_type": "markdown",
      "source": [
        "### 4.2.2 Cálculo da receita associada a alocação de bolsas"
      ],
      "metadata": {
        "id": "LYnvFp04Wegn"
      },
      "id": "LYnvFp04Wegn"
    },
    {
      "cell_type": "code",
      "source": [
        "# Cópia do dataframe de resultados após otimização do modelo\n",
        "\n",
        "df2 = df.copy()\n",
        "\n",
        "# Merge DataFrames de resultados x tkt medio\n",
        "merged_df = pd.merge(df_receitas_novo_teste2, df2, left_on=['id','Periodo'], right_on=['Curso','PERIODO'], how='inner')\n",
        "\n",
        "# Cálculo do valor de receita/bolsa associada a cada curso e numero de estudantes após otimização:\n",
        "\n",
        "#axis parameter in the apply lambda function :\n",
        "#axis=0 means apply the function to each column independently.\n",
        "#axis=1 means apply the function to each row independently.\n",
        "#axis=0: Apply the function along rows (vertically). This means that the function would be applied to each column independently.\n",
        "#axis=1: Apply the function along columns (horizontally). This means that the function would be applied to each row independently.\n",
        "\n",
        "#In your case, with the given lambda function and assignment, you should keep axis=1 to ensure the correct calculation for each row.\n",
        "\n",
        "merged_df['Valor_Bolsa'] = merged_df.apply(lambda x: x['N_STUDENTS'] * x['TKT_MEDIO_PERIODO'], axis=1)\n"
      ],
      "metadata": {
        "id": "5n8ukoEkWqDk"
      },
      "id": "5n8ukoEkWqDk",
      "execution_count": null,
      "outputs": []
    },
    {
      "cell_type": "code",
      "source": [
        "merged_df_bolsa100 = merged_df[merged_df['tipo_bolsa'] == 1]\n",
        "merged_df_bolsa50 = merged_df[merged_df['tipo_bolsa'] == 2]\n",
        "merged_df_sembolsa = merged_df[merged_df['tipo_bolsa'] == 3]"
      ],
      "metadata": {
        "id": "fe6BA3Rob9Dx"
      },
      "id": "fe6BA3Rob9Dx",
      "execution_count": null,
      "outputs": []
    },
    {
      "cell_type": "code",
      "source": [
        "kpi_bolsa_100 = merged_df_bolsa100.groupby(['Curso', 'PERIODO']).agg({'Valor_Bolsa': 'sum','N_STUDENTS': 'sum'}).reset_index()\n",
        "kpi_bolsa_50 = merged_df_bolsa50.groupby(['Curso', 'PERIODO']).agg({'Valor_Bolsa': 'sum','N_STUDENTS': 'sum'}).reset_index()\n",
        "kpi_bolsa_sembolsa = merged_df_sembolsa.groupby(['Curso', 'PERIODO']).agg({'Valor_Bolsa': 'sum','N_STUDENTS': 'sum'}).reset_index()\n",
        "\n",
        "#df_results_kpi['Valor_Bolsas_Mensal_100'] = merged_df[merged_df['tipo_bolsa'] == 1].groupby(['Curso','PERIODO']).agg({'Valor_Bolsa': 'sum'})\n",
        "#df_results_kpi['Valor_Bolsas_Mensal_100'] = merged_df[merged_df['tipo_bolsa'] == 1].groupby(['Curso', 'PERIODO']).agg({'Valor_Bolsa': 'sum'})\n"
      ],
      "metadata": {
        "id": "JyOfGCdhaKXU"
      },
      "id": "JyOfGCdhaKXU",
      "execution_count": null,
      "outputs": []
    },
    {
      "cell_type": "code",
      "source": [
        "#CALCULO DE KPIS\n",
        "\n",
        "#Set the display option for float values\n",
        "pd.set_option('display.float_format', '{:.2f}'.format)\n",
        "\n",
        "#KPIS - RECEITA\n",
        "\n",
        "# Receita Total Bruta\n",
        "kpi_total_ROB = merged_df.agg({'Valor_Bolsa': 'sum'})\n",
        "kpi_total_ROB = round(kpi_total_ROB, 2)\n",
        "\n",
        "# Receita Bolsa_100\n",
        "kpi_total_bolsa_100 = merged_df_bolsa100.agg({'Valor_Bolsa': 'sum'})\n",
        "kpi_total_bolsa_100 = round(kpi_total_bolsa_100, 2)\n",
        "\n",
        "# Receita Total Líquida\n",
        "kpi_total_ROL = merged_df.agg({'Valor_Bolsa': 'sum'}) - merged_df_bolsa100.agg({'Valor_Bolsa': 'sum'})\n",
        "kpi_total_ROL = round(kpi_total_ROL, 2)\n",
        "\n",
        "#KPIS - ESTUDANTES\n",
        "\n",
        "# Total de estudantes na instituição\n",
        "kpi_total_estudantes = merged_df.agg({'N_STUDENTS': 'sum'})\n",
        "rounded_kpi_total_estudantes = round(kpi_total_estudantes, 2)\n",
        "\n",
        "# Total de estudantes bolsa integral PROUNI 100%\n",
        "kpi_total_estudantes_bolsa100 = merged_df_bolsa100.agg({'N_STUDENTS': 'sum'})\n",
        "rounded_kpi_total_estudantes_bolsa100 = round(kpi_total_estudantes_bolsa100, 2)\n",
        "\n",
        "\n",
        "# Total de estudantes bolsa parcial PROUNI 50%\n",
        "kpi_total_estudantes_bolsa50 = merged_df_bolsa50.agg({'N_STUDENTS': 'sum'})\n",
        "rounded_kpi_total_estudantes_bolsa50 = round(kpi_total_estudantes_bolsa50, 2)\n",
        "\n",
        "\n",
        "# Total de estudantes sem bolsa\n",
        "kpi_total_estudantes_sembolsa = merged_df_sembolsa.agg({'N_STUDENTS': 'sum'})\n",
        "rounded_kpi_total_estudantes_sembolsa = round(kpi_total_estudantes_sembolsa, 2)\n",
        "\n"
      ],
      "metadata": {
        "id": "doRqfgNpW-_2"
      },
      "id": "doRqfgNpW-_2",
      "execution_count": null,
      "outputs": []
    }
  ],
  "metadata": {
    "kernelspec": {
      "display_name": "Python 3",
      "language": "python",
      "name": "python3"
    },
    "language_info": {
      "codemirror_mode": {
        "name": "ipython",
        "version": 3
      },
      "file_extension": ".py",
      "mimetype": "text/x-python",
      "name": "python",
      "nbconvert_exporter": "python",
      "pygments_lexer": "ipython3",
      "version": "3.8.10"
    },
    "colab": {
      "provenance": [],
      "include_colab_link": true
    }
  },
  "nbformat": 4,
  "nbformat_minor": 5
}